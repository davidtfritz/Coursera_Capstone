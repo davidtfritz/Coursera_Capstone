{
 "cells": [
  {
   "cell_type": "markdown",
   "metadata": {},
   "source": [
    "#### Capstone Project Week 1\n",
    "\n",
    "## Business Problem\n",
    "\n",
    "Sweden is one of the top coffee drinking countries in the world. Stockholm is the capital of Sweden, and the most populous city. A company looking to expand its operations with a target of growing in Sweden, and in Scandinavia more generally (Scandinavian countries are all heavy coffee drinkers), will want to start in Stockholm. \n",
    "\n",
    "Stockholm presents an ideal foothold in Sweden and Scandinavia more broadly for a coffee shop, as it is a large population center and a likely starting point for diffusion across the region. There are likely already incumbents, however, and so there is a threat of competition. \n",
    "\n",
    "Ideal target locations would blend a combination of opportunity with this competitive threat, and at worst a saturated locale. \n",
    "\n",
    "The analysis will require balancing the costs and benefits of the various regions within Stockholm, including removing saturated regions. Negative criteria should include competitive threats, including the number of pre-existing coffee shops, while positive criteria should include population and proximity to other venues. \n",
    "\n",
    "This will require data by region within Stockholm on the population, number of coffee shops, and number of venues that attract tourism (including domestic tourism) such as museums. Most relevant data should be available on Foursquare. \n",
    "\n",
    "## Audience\n",
    "\n",
    "While in this case the audience is only a singular coffee shop looking to expand into Stockholm (and then Sweden and Scandinavia more broadly), the analysis can be used for similar endeavors and other locations. \n",
    "\n",
    "## Criteria\n",
    "\n",
    "A successful outcome would be to correctly identify the best region within a city (in this case Stockholm) in which to open a coffee shop. This will balance the costs of competition, with the benefits of population and proximity to other locations that would encourage foot traffic. \n"
   ]
  },
  {
   "cell_type": "code",
   "execution_count": null,
   "metadata": {},
   "outputs": [],
   "source": []
  }
 ],
 "metadata": {
  "kernelspec": {
   "display_name": "Python 3",
   "language": "python",
   "name": "python3"
  },
  "language_info": {
   "codemirror_mode": {
    "name": "ipython",
    "version": 3
   },
   "file_extension": ".py",
   "mimetype": "text/x-python",
   "name": "python",
   "nbconvert_exporter": "python",
   "pygments_lexer": "ipython3",
   "version": "3.6.8"
  }
 },
 "nbformat": 4,
 "nbformat_minor": 2
}
